{
 "cells": [
  {
   "cell_type": "markdown",
   "metadata": {},
   "source": [
    "## Define the Convolutional Neural Network\n",
    "\n",
    "After you've looked at the data you're working with and, in this case, know the shapes of the images and of the keypoints, you are ready to define a convolutional neural network that can *learn* from this data.\n",
    "\n",
    "In this notebook and in `models.py`, you will:\n",
    "1. Define a CNN with images as input and keypoints as output\n",
    "2. Construct the transformed FaceKeypointsDataset, just as before\n",
    "3. Train the CNN on the training data, tracking loss\n",
    "4. See how the trained model performs on test data\n",
    "5. If necessary, modify the CNN structure and model hyperparameters, so that it performs *well* **\\***\n",
    "\n",
    "**\\*** What does *well* mean?\n",
    "\n",
    "\"Well\" means that the model's loss decreases during training **and**, when applied to test image data, the model produces keypoints that closely match the true keypoints of each face. And you'll see examples of this later in the notebook.\n",
    "\n",
    "---\n"
   ]
  },
  {
   "cell_type": "markdown",
   "metadata": {},
   "source": [
    "## CNN Architecture\n",
    "\n",
    "Recall that CNN's are defined by a few types of layers:\n",
    "* Convolutional layers\n",
    "* Maxpooling layers\n",
    "* Fully-connected layers\n",
    "\n",
    "You are required to use the above layers and encouraged to add multiple convolutional layers and things like dropout layers that may prevent overfitting. You are also encouraged to look at literature on keypoint detection, such as [this paper](https://arxiv.org/pdf/1710.00977.pdf), to help you determine the structure of your network.\n",
    "\n",
    "\n",
    "### TODO: Define your model in the provided file `models.py` file\n",
    "\n",
    "This file is mostly empty but contains the expected name and some TODO's for creating your model.\n",
    "\n",
    "---"
   ]
  },
  {
   "cell_type": "markdown",
   "metadata": {},
   "source": [
    "## PyTorch Neural Nets\n",
    "\n",
    "To define a neural network in PyTorch, you define the layers of a model in the function `__init__` and define the feedforward behavior of a network that employs those initialized layers in the function `forward`, which takes in an input image tensor, `x`. The structure of this Net class is shown below and left for you to fill in.\n",
    "\n",
    "Note: During training, PyTorch will be able to perform backpropagation by keeping track of the network's feedforward behavior and using autograd to calculate the update to the weights in the network.\n",
    "\n",
    "#### Define the Layers in ` __init__`\n",
    "As a reminder, a conv/pool layer may be defined like this (in `__init__`):\n",
    "```\n",
    "# 1 input image channel (for grayscale images), 32 output channels/feature maps, 3x3 square convolution kernel\n",
    "self.conv1 = nn.Conv2d(1, 32, 3)\n",
    "\n",
    "# maxpool that uses a square window of kernel_size=2, stride=2\n",
    "self.pool = nn.MaxPool2d(2, 2)      \n",
    "```\n",
    "\n",
    "#### Refer to Layers in `forward`\n",
    "Then referred to in the `forward` function like this, in which the conv1 layer has a ReLu activation applied to it before maxpooling is applied:\n",
    "```\n",
    "x = self.pool(F.relu(self.conv1(x)))\n",
    "```\n",
    "\n",
    "Best practice is to place any layers whose weights will change during the training process in `__init__` and refer to them in the `forward` function; any layers or functions that always behave in the same way, such as a pre-defined activation function, should appear *only* in the `forward` function."
   ]
  },
  {
   "cell_type": "markdown",
   "metadata": {},
   "source": [
    "#### Why models.py\n",
    "\n",
    "You are tasked with defining the network in the `models.py` file so that any models you define can be saved and loaded by name in different notebooks in this project directory. For example, by defining a CNN class called `Net` in `models.py`, you can then create that same architecture in this and other notebooks by simply importing the class and instantiating a model:\n",
    "```\n",
    "    from models import Net\n",
    "    net = Net()\n",
    "```"
   ]
  },
  {
   "cell_type": "code",
   "execution_count": 1,
   "metadata": {},
   "outputs": [],
   "source": [
    "# load the data if you need to; if you have already loaded the data, you may comment this cell out\n",
    "# -- DO NOT CHANGE THIS CELL -- #\n",
    "#!mkdir /data\n",
    "#!wget -P /data/ https://s3.amazonaws.com/video.udacity-data.com/topher/2018/May/5aea1b91_train-test-data/train-test-data.zip\n",
    "#!unzip -n /data/train-test-data.zip -d /data"
   ]
  },
  {
   "cell_type": "markdown",
   "metadata": {},
   "source": [
    "<div class=\"alert alert-info\">**Note:** Workspaces automatically close connections after 30 minutes of inactivity (including inactivity while training!). Use the code snippet below to keep your workspace alive during training. (The active_session context manager is imported below.)\n",
    "</div>\n",
    "```\n",
    "from workspace_utils import active_session\n",
    "\n",
    "with active_session():\n",
    "    train_model(num_epochs)\n",
    "```\n"
   ]
  },
  {
   "cell_type": "code",
   "execution_count": 2,
   "metadata": {},
   "outputs": [],
   "source": [
    "# import the usual resources\n",
    "import matplotlib.pyplot as plt\n",
    "import numpy as np\n",
    "\n",
    "# import utilities to keep workspaces alive during model training\n",
    "from workspace_utils import active_session\n",
    "\n",
    "# watch for any changes in model.py, if it changes, re-load it automatically\n",
    "%load_ext autoreload\n",
    "%autoreload 2"
   ]
  },
  {
   "cell_type": "code",
   "execution_count": 3,
   "metadata": {},
   "outputs": [
    {
     "name": "stdout",
     "output_type": "stream",
     "text": [
      "Net(\n",
      "  (conv1): Conv2d(1, 32, kernel_size=(5, 5), stride=(1, 1))\n",
      "  (pool1): MaxPool2d(kernel_size=2, stride=2, padding=0, dilation=1, ceil_mode=False)\n",
      "  (conv2): Conv2d(32, 64, kernel_size=(3, 3), stride=(1, 1))\n",
      "  (pool2): MaxPool2d(kernel_size=2, stride=2, padding=0, dilation=1, ceil_mode=False)\n",
      "  (conv3): Conv2d(64, 128, kernel_size=(3, 3), stride=(1, 1))\n",
      "  (pool3): MaxPool2d(kernel_size=2, stride=2, padding=0, dilation=1, ceil_mode=False)\n",
      "  (conv4): Conv2d(128, 256, kernel_size=(3, 3), stride=(1, 1))\n",
      "  (pool4): MaxPool2d(kernel_size=2, stride=2, padding=0, dilation=1, ceil_mode=False)\n",
      "  (conv5): Conv2d(256, 512, kernel_size=(1, 1), stride=(1, 1))\n",
      "  (pool5): MaxPool2d(kernel_size=2, stride=2, padding=0, dilation=1, ceil_mode=False)\n",
      "  (fc1): Linear(in_features=18432, out_features=1024, bias=True)\n",
      "  (fc2): Linear(in_features=1024, out_features=136, bias=True)\n",
      "  (drop1): Dropout(p=0.1, inplace=False)\n",
      "  (drop2): Dropout(p=0.2, inplace=False)\n",
      "  (drop3): Dropout(p=0.3, inplace=False)\n",
      "  (drop4): Dropout(p=0.4, inplace=False)\n",
      "  (drop5): Dropout(p=0.5, inplace=False)\n",
      "  (drop6): Dropout(p=0.6, inplace=False)\n",
      ")\n"
     ]
    }
   ],
   "source": [
    "## TODO: Define the Net in models.py\n",
    "\n",
    "import torch\n",
    "import torch.nn as nn\n",
    "import torch.nn.functional as F\n",
    "\n",
    "## TODO: Once you've define the network, you can instantiate it\n",
    "# one example conv layer has been provided for you\n",
    "from torch.utils.data import Dataset, DataLoader\n",
    "import torch\n",
    "from torchvision import transforms, utils\n",
    "from models import Net\n",
    "\n",
    "net = Net()\n",
    "print(net)"
   ]
  },
  {
   "cell_type": "markdown",
   "metadata": {},
   "source": [
    "## Transform the dataset \n",
    "\n",
    "To prepare for training, create a transformed dataset of images and keypoints.\n",
    "\n",
    "### TODO: Define a data transform\n",
    "\n",
    "In PyTorch, a convolutional neural network expects a torch image of a consistent size as input. For efficient training, and so your model's loss does not blow up during training, it is also suggested that you normalize the input images and keypoints. The necessary transforms have been defined in `data_load.py` and you **do not** need to modify these; take a look at this file (you'll see the same transforms that were defined and applied in Notebook 1).\n",
    "\n",
    "To define the data transform below, use a [composition](http://pytorch.org/tutorials/beginner/data_loading_tutorial.html#compose-transforms) of:\n",
    "1. Rescaling and/or cropping the data, such that you are left with a square image (the suggested size is 224x224px)\n",
    "2. Normalizing the images and keypoints; turning each RGB image into a grayscale image with a color range of [0, 1] and transforming the given keypoints into a range of [-1, 1]\n",
    "3. Turning these images and keypoints into Tensors\n",
    "\n",
    "These transformations have been defined in `data_load.py`, but it's up to you to call them and create a `data_transform` below. **This transform will be applied to the training data and, later, the test data**. It will change how you go about displaying these images and keypoints, but these steps are essential for efficient training.\n",
    "\n",
    "As a note, should you want to perform data augmentation (which is optional in this project), and randomly rotate or shift these images, a square image size will be useful; rotating a 224x224 image by 90 degrees will result in the same shape of output."
   ]
  },
  {
   "cell_type": "code",
   "execution_count": 4,
   "metadata": {},
   "outputs": [],
   "source": [
    "from torch.utils.data import Dataset, DataLoader\n",
    "from torchvision import transforms, utils\n",
    "\n",
    "# the dataset we created in Notebook 1 is copied in the helper file `data_load.py`\n",
    "from data_load import FacialKeypointsDataset\n",
    "# the transforms we defined in Notebook 1 are in the helper file `data_load.py`\n",
    "from data_load import Rescale, RandomCrop, Normalize, ToTensor\n",
    "\n",
    "\n",
    "## TODO: define the data_transform using transforms.Compose([all tx's, . , .])\n",
    "# order matters! i.e. rescaling should come before a smaller crop\n",
    "\n",
    "# testing that you've defined a transform\n",
    "\n",
    "data_transform = transforms.Compose([Rescale(250),\n",
    "                                     RandomCrop(224),\n",
    "                                     Normalize(),\n",
    "                                     ToTensor()])\n",
    "assert(data_transform is not None), 'Define a data_transform'\n"
   ]
  },
  {
   "cell_type": "code",
   "execution_count": 5,
   "metadata": {},
   "outputs": [
    {
     "name": "stdout",
     "output_type": "stream",
     "text": [
      "Number of images:  3462\n",
      "0 torch.Size([1, 224, 224]) torch.Size([68, 2])\n",
      "1 torch.Size([1, 224, 224]) torch.Size([68, 2])\n",
      "2 torch.Size([1, 224, 224]) torch.Size([68, 2])\n",
      "3 torch.Size([1, 224, 224]) torch.Size([68, 2])\n"
     ]
    },
    {
     "name": "stderr",
     "output_type": "stream",
     "text": [
      "/Users/jangomezroberts/Downloads/Facial-Keypoint-Detection-master/data_load.py:39: FutureWarning: Method .as_matrix will be removed in a future version. Use .values instead.\n",
      "  key_pts = self.key_pts_frame.iloc[idx, 1:].as_matrix()\n"
     ]
    }
   ],
   "source": [
    "# create the transformed dataset\n",
    "transformed_dataset = FacialKeypointsDataset(csv_file='/Users/jangomezroberts/Downloads/Facial-Keypoint-Detection-master/data/training_frames_keypoints.csv',\n",
    "                                             root_dir='/Users/jangomezroberts/Downloads/Facial-Keypoint-Detection-master/data/training/',\n",
    "                                             transform=data_transform)\n",
    "\n",
    "\n",
    "print('Number of images: ', len(transformed_dataset))\n",
    "\n",
    "# iterate through the transformed dataset and print some stats about the first few samples\n",
    "for i in range(4):\n",
    "    sample = transformed_dataset[i]\n",
    "    print(i, sample['image'].size(), sample['keypoints'].size())"
   ]
  },
  {
   "cell_type": "markdown",
   "metadata": {},
   "source": [
    "## Batching and loading data\n",
    "\n",
    "Next, having defined the transformed dataset, we can use PyTorch's DataLoader class to load the training data in batches of whatever size as well as to shuffle the data for training the model. You can read more about the parameters of the DataLoader, in [this documentation](http://pytorch.org/docs/master/data.html).\n",
    "\n",
    "#### Batch size\n",
    "Decide on a good batch size for training your model. Try both small and large batch sizes and note how the loss decreases as the model trains. Too large a batch size may cause your model to crash and/or run out of memory while training.\n",
    "\n",
    "**Note for Windows users**: Please change the `num_workers` to 0 or you may face some issues with your DataLoader failing."
   ]
  },
  {
   "cell_type": "code",
   "execution_count": 6,
   "metadata": {},
   "outputs": [],
   "source": [
    "# load training data in batches\n",
    "batch_size = 10\n",
    "\n",
    "train_loader = DataLoader(transformed_dataset, \n",
    "                          batch_size=batch_size,\n",
    "                          shuffle=True, \n",
    "                          num_workers=0)\n"
   ]
  },
  {
   "cell_type": "markdown",
   "metadata": {},
   "source": [
    "## Before training\n",
    "\n",
    "Take a look at how this model performs before it trains. You should see that the keypoints it predicts start off in one spot and don't match the keypoints on a face at all! It's interesting to visualize this behavior so that you can compare it to the model after training and see how the model has improved.\n",
    "\n",
    "#### Load in the test dataset\n",
    "\n",
    "The test dataset is one that this model has *not* seen before, meaning it has not trained with these images. We'll load in this test data and before and after training, see how your model performs on this set!\n",
    "\n",
    "To visualize this test data, we have to go through some un-transformation steps to turn our images into python images from tensors and to turn our keypoints back into a recognizable range. "
   ]
  },
  {
   "cell_type": "code",
   "execution_count": 7,
   "metadata": {},
   "outputs": [],
   "source": [
    "# load in the test data, using the dataset class\n",
    "# AND apply the data_transform you defined above\n",
    "\n",
    "# create the test dataset\n",
    "test_dataset = FacialKeypointsDataset(csv_file='/Users/jangomezroberts/Downloads/Facial-Keypoint-Detection-master/data/test_frames_keypoints.csv',\n",
    "                                             root_dir='/Users/jangomezroberts/Downloads/Facial-Keypoint-Detection-master/data/test/',\n",
    "                                             transform=data_transform)\n",
    "\n"
   ]
  },
  {
   "cell_type": "code",
   "execution_count": 8,
   "metadata": {},
   "outputs": [],
   "source": [
    "# load test data in batches\n",
    "batch_size = 10\n",
    "\n",
    "test_loader = DataLoader(test_dataset, \n",
    "                          batch_size=batch_size,\n",
    "                          shuffle=True, \n",
    "                          num_workers=0)"
   ]
  },
  {
   "cell_type": "markdown",
   "metadata": {},
   "source": [
    "## Apply the model on a test sample\n",
    "\n",
    "To test the model on a test sample of data, you have to follow these steps:\n",
    "1. Extract the image and ground truth keypoints from a sample\n",
    "2. Wrap the image in a Variable, so that the net can process it as input and track how it changes as the image moves through the network.\n",
    "3. Make sure the image is a FloatTensor, which the model expects.\n",
    "4. Forward pass the image through the net to get the predicted, output keypoints.\n",
    "\n",
    "This function test how the network performs on the first batch of test data. It returns the images, the transformed images, the predicted keypoints (produced by the model), and the ground truth keypoints."
   ]
  },
  {
   "cell_type": "code",
   "execution_count": 9,
   "metadata": {},
   "outputs": [],
   "source": [
    "# test the model on a batch of test images\n",
    "\n",
    "def net_sample_output():\n",
    "    \n",
    "    # iterate through the test dataset\n",
    "    for i, sample in enumerate(test_loader):\n",
    "        \n",
    "        # get sample data: images and ground truth keypoints\n",
    "        images = sample['image']\n",
    "        key_pts = sample['keypoints']\n",
    "\n",
    "        # convert images to FloatTensors\n",
    "        images = images.type(torch.FloatTensor)\n",
    "        \n",
    "\n",
    "        # forward pass to get net output\n",
    "        output_pts = net(images)\n",
    "        \n",
    "        # reshape to batch_size x 68 x 2 pts\n",
    "        output_pts = output_pts.view(output_pts.size()[0], 68, -1)\n",
    "        \n",
    "        # break after first image is tested\n",
    "        if i == 0:\n",
    "            return images, output_pts, key_pts\n",
    "            "
   ]
  },
  {
   "cell_type": "code",
   "execution_count": 10,
   "metadata": {},
   "outputs": [],
   "source": [
    "test_images, test_outputs, gt_pts = net_sample_output()"
   ]
  },
  {
   "cell_type": "code",
   "execution_count": null,
   "metadata": {},
   "outputs": [],
   "source": []
  },
  {
   "cell_type": "markdown",
   "metadata": {},
   "source": [
    "#### Debugging tips\n",
    "\n",
    "If you get a size or dimension error here, make sure that your network outputs the expected number of keypoints! Or if you get a Tensor type error, look into changing the above code that casts the data into float types: `images = images.type(torch.FloatTensor)`."
   ]
  },
  {
   "cell_type": "code",
   "execution_count": 11,
   "metadata": {},
   "outputs": [
    {
     "name": "stdout",
     "output_type": "stream",
     "text": [
      "torch.Size([10, 1, 224, 224])\n",
      "torch.Size([10, 68, 2])\n",
      "torch.Size([10, 68, 2])\n"
     ]
    }
   ],
   "source": [
    "# call the above function\n",
    "# returns: test images, test predicted keypoints, test ground truth keypoints\n",
    "test_images, test_outputs, gt_pts = net_sample_output()\n",
    "\n",
    "# print out the dimensions of the data to see if they make sense\n",
    "print(test_images.data.size())\n",
    "print(test_outputs.data.size())\n",
    "print(gt_pts.size())"
   ]
  },
  {
   "cell_type": "markdown",
   "metadata": {},
   "source": [
    "## Visualize the predicted keypoints\n",
    "\n",
    "Once we've had the model produce some predicted output keypoints, we can visualize these points in a way that's similar to how we've displayed this data before, only this time, we have to \"un-transform\" the image/keypoint data to display it.\n",
    "\n",
    "Note that I've defined a *new* function, `show_all_keypoints` that displays a grayscale image, its predicted keypoints and its ground truth keypoints (if provided)."
   ]
  },
  {
   "cell_type": "code",
   "execution_count": 12,
   "metadata": {},
   "outputs": [],
   "source": [
    "def show_all_keypoints(image, predicted_key_pts, gt_pts=None):\n",
    "    \"\"\"Show image with predicted keypoints\"\"\"\n",
    "    # image is grayscale\n",
    "    plt.imshow(image, cmap='gray')\n",
    "    plt.scatter(predicted_key_pts[:, 0], predicted_key_pts[:, 1], s=20, marker='.', c='m')\n",
    "    # plot ground truth points as green pts\n",
    "    if gt_pts is not None:\n",
    "        plt.scatter(gt_pts[:, 0], gt_pts[:, 1], s=20, marker='.', c='g')\n"
   ]
  },
  {
   "cell_type": "markdown",
   "metadata": {},
   "source": [
    "#### Un-transformation\n",
    "\n",
    "Next, you'll see a helper function. `visualize_output` that takes in a batch of images, predicted keypoints, and ground truth keypoints and displays a set of those images and their true/predicted keypoints.\n",
    "\n",
    "This function's main role is to take batches of image and keypoint data (the input and output of your CNN), and transform them into numpy images and un-normalized keypoints (x, y) for normal display. The un-transformation process turns keypoints and images into numpy arrays from Tensors *and* it undoes the keypoint normalization done in the Normalize() transform; it's assumed that you applied these transformations when you loaded your test data."
   ]
  },
  {
   "cell_type": "code",
   "execution_count": 13,
   "metadata": {},
   "outputs": [
    {
     "data": {
      "image/png": "[encoded data removed]",
      "text/plain": [
       "<Figure size 1440x720 with 1 Axes>"
      ]
     },
     "metadata": {
      "needs_background": "light"
     },
     "output_type": "display_data"
    },
    {
     "data": {
      "image/png": "[encoded data removed]",
      "text/plain": [
       "<Figure size 1440x720 with 1 Axes>"
      ]
     },
     "metadata": {
      "needs_background": "light"
     },
     "output_type": "display_data"
    },
    {
     "data": {
      "image/png": "[encoded data removed]",
      "text/plain": [
       "<Figure size 1440x720 with 1 Axes>"
      ]
     },
     "metadata": {
      "needs_background": "light"
     },
     "output_type": "display_data"
    },
    {
     "data": {
      "image/png": "[encoded data removed]",
      "text/plain": [
       "<Figure size 1440x720 with 1 Axes>"
      ]
     },
     "metadata": {
      "needs_background": "light"
     },
     "output_type": "display_data"
    },
    {
     "data": {
      "image/png": "[encoded data removed]",
      "text/plain": [
       "<Figure size 1440x720 with 1 Axes>"
      ]
     },
     "metadata": {
      "needs_background": "light"
     },
     "output_type": "display_data"
    },
    {
     "data": {
      "image/png": "[encoded data removed]",
      "text/plain": [
       "<Figure size 1440x720 with 1 Axes>"
      ]
     },
     "metadata": {
      "needs_background": "light"
     },
     "output_type": "display_data"
    },
    {
     "data": {
      "image/png": "[encoded data removed]",
      "text/plain": [
       "<Figure size 1440x720 with 1 Axes>"
      ]
     },
     "metadata": {
      "needs_background": "light"
     },
     "output_type": "display_data"
    },
    {
     "data": {
      "image/png": "[encoded data removed]",
      "text/plain": [
       "<Figure size 1440x720 with 1 Axes>"
      ]
     },
     "metadata": {
      "needs_background": "light"
     },
     "output_type": "display_data"
    },
    {
     "data": {
      "image/png": "[encoded data removed]",
      "text/plain": [
       "<Figure size 1440x720 with 1 Axes>"
      ]
     },
     "metadata": {
      "needs_background": "light"
     },
     "output_type": "display_data"
    },
    {
     "data": {
      "image/png": "[encoded data removed]",
      "text/plain": [
       "<Figure size 1440x720 with 1 Axes>"
      ]
     },
     "metadata": {
      "needs_background": "light"
     },
     "output_type": "display_data"
    }
   ],
   "source": [
    "# visualize the output\n",
    "# by default this shows a batch of 10 images\n",
    "def visualize_output(test_images, test_outputs, gt_pts=None, batch_size=10):\n",
    "\n",
    "    for i in range(batch_size):\n",
    "        plt.figure(figsize=(20,10))\n",
    "        ax = plt.subplot(1, batch_size, i+1)\n",
    "\n",
    "        # un-transform the image data\n",
    "        image = test_images[i].data   # get the image from it's Variable wrapper\n",
    "        image = image.numpy()   # convert to numpy array from a Tensor\n",
    "        image = np.transpose(image, (1, 2, 0))   # transpose to go from torch to numpy image\n",
    "\n",
    "        # un-transform the predicted key_pts data\n",
    "        predicted_key_pts = test_outputs[i].data\n",
    "        predicted_key_pts = predicted_key_pts.numpy()\n",
    "        # undo normalization of keypoints  \n",
    "        predicted_key_pts = predicted_key_pts*50.0+100\n",
    "        \n",
    "        # plot ground truth points for comparison, if they exist\n",
    "        ground_truth_pts = None\n",
    "        if gt_pts is not None:\n",
    "            ground_truth_pts = gt_pts[i]         \n",
    "            ground_truth_pts = ground_truth_pts*50.0+100\n",
    "        \n",
    "        # call show_all_keypoints\n",
    "        show_all_keypoints(np.squeeze(image), predicted_key_pts, ground_truth_pts)\n",
    "            \n",
    "        plt.axis('off')\n",
    "\n",
    "    plt.show()\n",
    "    \n",
    "# call it\n",
    "visualize_output(test_images, test_outputs, gt_pts)"
   ]
  },
  {
   "cell_type": "markdown",
   "metadata": {},
   "source": [
    "## Training\n",
    "\n",
    "#### Loss function\n",
    "Training a network to predict keypoints is different than training a network to predict a class; instead of outputting a distribution of classes and using cross entropy loss, you may want to choose a loss function that is suited for regression, which directly compares a predicted value and target value. Read about the various kinds of loss functions (like MSE or L1/SmoothL1 loss) in [this documentation](http://pytorch.org/docs/master/_modules/torch/nn/modules/loss.html).\n",
    "\n",
    "### TODO: Define the loss and optimization\n",
    "\n",
    "Next, you'll define how the model will train by deciding on the loss function and optimizer.\n",
    "\n",
    "---"
   ]
  },
  {
   "cell_type": "code",
   "execution_count": 14,
   "metadata": {},
   "outputs": [],
   "source": [
    "## TODO: Define the loss and optimization\n",
    "import torch.optim as optim\n",
    "\n",
    "#criterion = nn.CrossEntropyLoss()\n",
    "criterion = nn.MSELoss()\n",
    "\n",
    "#optimizer = optim.SGD(net.parameters(), lr=0.001, momentum=0.9)\n",
    "optimizer = optim.Adam(params = net.parameters(), lr = 0.001)"
   ]
  },
  {
   "cell_type": "markdown",
   "metadata": {},
   "source": [
    "\n",
    "\n",
    "\n",
    "\n",
    "## Training and Initial Observation\n",
    "\n",
    "Now, you'll train on your batched training data from `train_loader` for a number of epochs. \n",
    "\n",
    "To quickly observe how your model is training and decide on whether or not you should modify it's structure or hyperparameters, you're encouraged to start off with just one or two epochs at first. As you train, note how your the model's loss behaves over time: does it decrease quickly at first and then slow down? Does it take a while to decrease in the first place? What happens if you change the batch size of your training data or modify your loss function? etc. \n",
    "\n",
    "Use these initial observations to make changes to your model and decide on the best architecture before you train for many epochs and create a final model."
   ]
  },
  {
   "cell_type": "code",
   "execution_count": 15,
   "metadata": {},
   "outputs": [],
   "source": [
    "def train_net(n_epochs):\n",
    "\n",
    "    # prepare the net for training\n",
    "    net.train()\n",
    "\n",
    "    for epoch in range(n_epochs):  # loop over the dataset multiple times\n",
    "        \n",
    "        running_loss = 0.0\n",
    "\n",
    "        # train on batches of data, assumes you already have train_loader\n",
    "        for batch_i, data in enumerate(train_loader):\n",
    "            # get the input images and their corresponding labels\n",
    "            images = data['image']\n",
    "            key_pts = data['keypoints']\n",
    "\n",
    "            # flatten pts\n",
    "            key_pts = key_pts.view(key_pts.size(0), -1)\n",
    "\n",
    "            # convert variables to floats for regression loss\n",
    "            key_pts = key_pts.type(torch.FloatTensor)\n",
    "            images = images.type(torch.FloatTensor)\n",
    "\n",
    "            # forward pass to get outputs\n",
    "            output_pts = net(images)\n",
    "            #output_pts = output_pts.type(torch.FloatTensor)\n",
    "            #print(output_pts.type)\n",
    "            #print(key_pts.type)\n",
    "            # calculate the loss between predicted and target keypoints\n",
    "            loss = criterion(output_pts, key_pts)\n",
    "\n",
    "            # zero the parameter (weight) gradients\n",
    "            optimizer.zero_grad()\n",
    "            \n",
    "            # backward pass to calculate the weight gradients\n",
    "            loss.backward()\n",
    "\n",
    "            # update the weights\n",
    "            optimizer.step()\n",
    "\n",
    "            # print loss statistics\n",
    "            running_loss += loss.item()\n",
    "            if batch_i % 10 == 9:    # print every 10 batches\n",
    "                print('Epoch: {}, Batch: {}, Avg. Loss: {}'.format(epoch + 1, batch_i+1, running_loss/1000))\n",
    "                running_loss = 0.0\n",
    "\n",
    "    print('Finished Training')\n"
   ]
  },
  {
   "cell_type": "code",
   "execution_count": null,
   "metadata": {},
   "outputs": [
    {
     "name": "stdout",
     "output_type": "stream",
     "text": [
      "Epoch: 1, Batch: 10, Avg. Loss: 0.004714056998491287\n",
      "Epoch: 1, Batch: 20, Avg. Loss: 0.0032891864627599718\n",
      "Epoch: 1, Batch: 30, Avg. Loss: 0.002394240736961365\n",
      "Epoch: 1, Batch: 40, Avg. Loss: 0.002139755055308342\n",
      "Epoch: 1, Batch: 50, Avg. Loss: 0.0022195497378706933\n",
      "Epoch: 1, Batch: 60, Avg. Loss: 0.002566545128822327\n",
      "Epoch: 1, Batch: 70, Avg. Loss: 0.0019028002321720124\n",
      "Epoch: 1, Batch: 80, Avg. Loss: 0.0023711996376514434\n",
      "Epoch: 1, Batch: 90, Avg. Loss: 0.001856081873178482\n",
      "Epoch: 1, Batch: 100, Avg. Loss: 0.002041727192699909\n",
      "Epoch: 1, Batch: 110, Avg. Loss: 0.0018912017717957496\n",
      "Epoch: 1, Batch: 120, Avg. Loss: 0.0020138608068227767\n",
      "Epoch: 1, Batch: 130, Avg. Loss: 0.00223228257894516\n",
      "Epoch: 1, Batch: 140, Avg. Loss: 0.002507952243089676\n",
      "Epoch: 1, Batch: 150, Avg. Loss: 0.0024368634074926378\n",
      "Epoch: 1, Batch: 160, Avg. Loss: 0.0021213555932044982\n",
      "Epoch: 1, Batch: 170, Avg. Loss: 0.002559660583734512\n",
      "Epoch: 1, Batch: 180, Avg. Loss: 0.002114877313375473\n",
      "Epoch: 1, Batch: 190, Avg. Loss: 0.0020482257455587388\n",
      "Epoch: 1, Batch: 200, Avg. Loss: 0.002042970135807991\n",
      "Epoch: 1, Batch: 210, Avg. Loss: 0.001913843236863613\n",
      "Epoch: 1, Batch: 220, Avg. Loss: 0.0019641414731740954\n",
      "Epoch: 1, Batch: 230, Avg. Loss: 0.0017458617612719535\n",
      "Epoch: 1, Batch: 240, Avg. Loss: 0.0017071175053715705\n",
      "Epoch: 1, Batch: 250, Avg. Loss: 0.0017770193070173264\n",
      "Epoch: 1, Batch: 260, Avg. Loss: 0.0018366067856550217\n",
      "Epoch: 1, Batch: 270, Avg. Loss: 0.0015388699769973756\n",
      "Epoch: 1, Batch: 280, Avg. Loss: 0.0015835051760077477\n",
      "Epoch: 1, Batch: 290, Avg. Loss: 0.0016569441854953767\n",
      "Epoch: 1, Batch: 300, Avg. Loss: 0.0019137737452983856\n",
      "Epoch: 1, Batch: 310, Avg. Loss: 0.001989138424396515\n",
      "Epoch: 1, Batch: 320, Avg. Loss: 0.00194544917345047\n",
      "Epoch: 1, Batch: 330, Avg. Loss: 0.0022627801224589347\n",
      "Epoch: 1, Batch: 340, Avg. Loss: 0.001777219869196415\n",
      "Epoch: 2, Batch: 10, Avg. Loss: 0.0018536268025636674\n",
      "Epoch: 2, Batch: 20, Avg. Loss: 0.0017866396382451057\n",
      "Epoch: 2, Batch: 30, Avg. Loss: 0.003677656643092632\n",
      "Epoch: 2, Batch: 40, Avg. Loss: 0.0021930326521396636\n",
      "Epoch: 2, Batch: 50, Avg. Loss: 0.0018605916053056717\n",
      "Epoch: 2, Batch: 60, Avg. Loss: 0.002071987956762314\n",
      "Epoch: 2, Batch: 70, Avg. Loss: 0.0019557618275284766\n",
      "Epoch: 2, Batch: 80, Avg. Loss: 0.002391057305037975\n",
      "Epoch: 2, Batch: 90, Avg. Loss: 0.0019929363653063774\n",
      "Epoch: 2, Batch: 100, Avg. Loss: 0.002042246140539646\n",
      "Epoch: 2, Batch: 110, Avg. Loss: 0.0017480986416339875\n",
      "Epoch: 2, Batch: 120, Avg. Loss: 0.0017776118069887162\n",
      "Epoch: 2, Batch: 130, Avg. Loss: 0.0020930117219686508\n",
      "Epoch: 2, Batch: 140, Avg. Loss: 0.0024008439257740973\n",
      "Epoch: 2, Batch: 150, Avg. Loss: 0.0023353819549083708\n",
      "Epoch: 2, Batch: 160, Avg. Loss: 0.0027532293051481245\n",
      "Epoch: 2, Batch: 170, Avg. Loss: 0.0021897186636924745\n",
      "Epoch: 2, Batch: 180, Avg. Loss: 0.0016999854743480682\n",
      "Epoch: 2, Batch: 190, Avg. Loss: 0.0017182586193084718\n",
      "Epoch: 2, Batch: 200, Avg. Loss: 0.002249433174729347\n",
      "Epoch: 2, Batch: 210, Avg. Loss: 0.002010858431458473\n",
      "Epoch: 2, Batch: 220, Avg. Loss: 0.001752254657447338\n",
      "Epoch: 2, Batch: 230, Avg. Loss: 0.0020204904824495315\n",
      "Epoch: 2, Batch: 240, Avg. Loss: 0.001818883441388607\n",
      "Epoch: 2, Batch: 250, Avg. Loss: 0.0019778203517198563\n",
      "Epoch: 2, Batch: 260, Avg. Loss: 0.00214597587287426\n",
      "Epoch: 2, Batch: 270, Avg. Loss: 0.0014870997071266174\n",
      "Epoch: 2, Batch: 280, Avg. Loss: 0.002045434780418873\n",
      "Epoch: 2, Batch: 290, Avg. Loss: 0.0018011917918920517\n",
      "Epoch: 2, Batch: 300, Avg. Loss: 0.002499164439737797\n",
      "Epoch: 2, Batch: 310, Avg. Loss: 0.0018988088071346283\n",
      "Epoch: 2, Batch: 320, Avg. Loss: 0.0022852903008461\n",
      "Epoch: 2, Batch: 330, Avg. Loss: 0.002270510047674179\n",
      "Epoch: 2, Batch: 340, Avg. Loss: 0.0022746154442429543\n",
      "Epoch: 3, Batch: 10, Avg. Loss: 0.0033070180639624596\n",
      "Epoch: 3, Batch: 20, Avg. Loss: 0.0017473760545253755\n",
      "Epoch: 3, Batch: 30, Avg. Loss: 0.0019172198325395585\n",
      "Epoch: 3, Batch: 40, Avg. Loss: 0.0021779518127441407\n",
      "Epoch: 3, Batch: 50, Avg. Loss: 0.002505400188267231\n",
      "Epoch: 3, Batch: 60, Avg. Loss: 0.0017983786389231683\n",
      "Epoch: 3, Batch: 70, Avg. Loss: 0.0018460061103105546\n",
      "Epoch: 3, Batch: 80, Avg. Loss: 0.0019071082100272179\n",
      "Epoch: 3, Batch: 90, Avg. Loss: 0.002021415218710899\n",
      "Epoch: 3, Batch: 100, Avg. Loss: 0.0020499818921089173\n",
      "Epoch: 3, Batch: 110, Avg. Loss: 0.002169812060892582\n",
      "Epoch: 3, Batch: 120, Avg. Loss: 0.0025612308830022814\n",
      "Epoch: 3, Batch: 130, Avg. Loss: 0.001707334391772747\n",
      "Epoch: 3, Batch: 140, Avg. Loss: 0.0021804544255137445\n",
      "Epoch: 3, Batch: 150, Avg. Loss: 0.001990486033260822\n",
      "Epoch: 3, Batch: 160, Avg. Loss: 0.002126128435134888\n",
      "Epoch: 3, Batch: 170, Avg. Loss: 0.0017229099944233895\n",
      "Epoch: 3, Batch: 180, Avg. Loss: 0.0021597423180937767\n",
      "Epoch: 3, Batch: 190, Avg. Loss: 0.0020896188616752625\n",
      "Epoch: 3, Batch: 200, Avg. Loss: 0.0017757739201188086\n",
      "Epoch: 3, Batch: 210, Avg. Loss: 0.0020786366164684297\n",
      "Epoch: 3, Batch: 220, Avg. Loss: 0.0017496856302022933\n",
      "Epoch: 3, Batch: 230, Avg. Loss: 0.0018854945451021194\n",
      "Epoch: 3, Batch: 240, Avg. Loss: 0.0018515069782733917\n",
      "Epoch: 3, Batch: 250, Avg. Loss: 0.0019703428372740747\n",
      "Epoch: 3, Batch: 260, Avg. Loss: 0.0016905171796679497\n",
      "Epoch: 3, Batch: 270, Avg. Loss: 0.0036430620104074478\n",
      "Epoch: 3, Batch: 280, Avg. Loss: 0.0019407601058483125\n",
      "Epoch: 3, Batch: 290, Avg. Loss: 0.001560048133134842\n",
      "Epoch: 3, Batch: 300, Avg. Loss: 0.002238660424947739\n",
      "Epoch: 3, Batch: 310, Avg. Loss: 0.0016144651100039483\n",
      "Epoch: 3, Batch: 320, Avg. Loss: 0.0021997863203287124\n",
      "Epoch: 3, Batch: 330, Avg. Loss: 0.0021085580438375473\n",
      "Epoch: 3, Batch: 340, Avg. Loss: 0.0018543508052825928\n",
      "Epoch: 4, Batch: 10, Avg. Loss: 0.001741878792643547\n",
      "Epoch: 4, Batch: 20, Avg. Loss: 0.001805641271173954\n",
      "Epoch: 4, Batch: 30, Avg. Loss: 0.001819479338824749\n",
      "Epoch: 4, Batch: 40, Avg. Loss: 0.0016905363649129868\n",
      "Epoch: 4, Batch: 50, Avg. Loss: 0.003144944056868553\n",
      "Epoch: 4, Batch: 60, Avg. Loss: 0.0018221612870693207\n",
      "Epoch: 4, Batch: 70, Avg. Loss: 0.001602884776890278\n",
      "Epoch: 4, Batch: 80, Avg. Loss: 0.0017927218675613404\n",
      "Epoch: 4, Batch: 90, Avg. Loss: 0.0019202677458524703\n",
      "Epoch: 4, Batch: 100, Avg. Loss: 0.002345916971564293\n",
      "Epoch: 4, Batch: 110, Avg. Loss: 0.0018947772830724715\n",
      "Epoch: 4, Batch: 120, Avg. Loss: 0.0018247575089335442\n",
      "Epoch: 4, Batch: 130, Avg. Loss: 0.0019274335652589797\n",
      "Epoch: 4, Batch: 140, Avg. Loss: 0.0017016556188464164\n",
      "Epoch: 4, Batch: 150, Avg. Loss: 0.0018619090765714646\n",
      "Epoch: 4, Batch: 160, Avg. Loss: 0.0018010807633399963\n",
      "Epoch: 4, Batch: 170, Avg. Loss: 0.0023117668479681014\n",
      "Epoch: 4, Batch: 180, Avg. Loss: 0.002000869996845722\n",
      "Epoch: 4, Batch: 190, Avg. Loss: 0.0019343762546777726\n",
      "Epoch: 4, Batch: 200, Avg. Loss: 0.002437211126089096\n",
      "Epoch: 4, Batch: 210, Avg. Loss: 0.0019769342616200447\n",
      "Epoch: 4, Batch: 220, Avg. Loss: 0.0018734927475452423\n",
      "Epoch: 4, Batch: 230, Avg. Loss: 0.0023074106574058535\n",
      "Epoch: 4, Batch: 240, Avg. Loss: 0.0018337700068950652\n",
      "Epoch: 4, Batch: 250, Avg. Loss: 0.0018710822388529778\n",
      "Epoch: 4, Batch: 260, Avg. Loss: 0.0019152102768421172\n",
      "Epoch: 4, Batch: 270, Avg. Loss: 0.0018489087373018264\n"
     ]
    }
   ],
   "source": [
    "# train your network\n",
    "n_epochs = 6 # start small, and increase when you've decided on your model structure and hyperparams\n",
    "train_net(n_epochs)"
   ]
  },
  {
   "cell_type": "markdown",
   "metadata": {},
   "source": [
    "## Test data\n",
    "\n",
    "See how your model performs on previously unseen, test data. We've already loaded and transformed this data, similar to the training data. Next, run your trained model on these images to see what kind of keypoints are produced. You should be able to see if your model is fitting each new face it sees, if the points are distributed randomly, or if the points have actually overfitted the training data and do not generalize."
   ]
  },
  {
   "cell_type": "code",
   "execution_count": null,
   "metadata": {},
   "outputs": [],
   "source": [
    "# get a sample of test data again\n",
    "test_images, test_outputs, gt_pts = net_sample_output()\n",
    "\n",
    "print(test_images.data.size())\n",
    "print(test_outputs.data.size())\n",
    "print(gt_pts.size())"
   ]
  },
  {
   "cell_type": "code",
   "execution_count": null,
   "metadata": {},
   "outputs": [],
   "source": [
    "## TODO: visualize your test output\n",
    "# you can use the same function as before, by un-commenting the line below:\n",
    "visualize_output(test_images, test_outputs, gt_pts)\n"
   ]
  },
  {
   "cell_type": "markdown",
   "metadata": {},
   "source": [
    "Once you've found a good model (or two), save your model so you can load it and use it later!\n",
    "\n",
    "Save your models but please **delete any checkpoints and saved models before you submit your project** otherwise your workspace may be too large to submit."
   ]
  },
  {
   "cell_type": "code",
   "execution_count": null,
   "metadata": {},
   "outputs": [],
   "source": [
    "## TODO: change the name to something uniqe for each new model\n",
    "!mkdir /Users/jangomezroberts/Downloads/Facial-Keypoint-Detection-master/data/saved_models/\n",
    "#model_dir = '/Users/jangomezroberts/Downloads/Facial-Keypoint-Detection-master/saved_models/'\n",
    "#model_name = 'keypoints_model_garima.pt'\n",
    "\n",
    "# after training, save your model parameters in the dir 'saved_models'\n",
    "torch.save(net.state_dict(), 'keypoints_model_garima_2.pt')"
   ]
  },
  {
   "cell_type": "markdown",
   "metadata": {},
   "source": [
    "After you've trained a well-performing model, answer the following questions so that we have some insight into your training and architecture selection process. Answering all questions is required to pass this project."
   ]
  },
  {
   "cell_type": "markdown",
   "metadata": {},
   "source": [
    "### Question 1: What optimization and loss functions did you choose and why?\n"
   ]
  },
  {
   "cell_type": "markdown",
   "metadata": {},
   "source": [
    "**Answer**: Optimisation functions calculate the gradient so to calculate the partial derivative of loss function with respect to weights, and the weights are modified in the opposite direction of the calculated gradient, I used SGD optimisation function. After rigourous tests, the results showed that it is much faster and yields low loss as compared to the other optimization functions that I implemented.This function furthur got improved by tuning important parametes like momentum, learning rate etc.The implementation of SGD with Momentum subtly differs from other implementations in some other frameworks.\n",
    "\n",
    "Loss functions calculate difference between output and target variable, I used MSELoss(). It creates a criterion that measures the mean squared error (squared L2 norm) between each element in the input x and target y. As opposed to the other loss functions implemented by me, like CrossEntropyLoss() which combines nn.LogSoftmax() and nn.NLLLoss() in one single class, MSELoss() calculates the mean(L),sum(L) whenever size_average=True or false respectively. Here I've applied size_average=True where the sum operation still operates over all the elements, but divides all by n.\n",
    "\t  \n",
    " "
   ]
  },
  {
   "cell_type": "markdown",
   "metadata": {},
   "source": [
    "### Question 2: What kind of network architecture did you start with and how did it change as you tried different architectures? Did you decide to add more convolutional layers or any layers to avoid overfitting the data?"
   ]
  },
  {
   "cell_type": "markdown",
   "metadata": {},
   "source": [
    "**Answer**: I began with a simple two layer convolution layer network eack followed by a max pooling layer and finally flattening it with a Flatten layer.\n",
    "\n",
    "After trying the above mentioned architecture the loss was still too much as the image dimension being fed into the last layer was still was huge number and this needed to be scaled down into singular numbers. On realising this and seeing constant loss of the model I finally increasing the layers one by one till my loss eventually started decreasing.\n",
    "\n",
    "My final model was-\n",
    "\n",
    "\n",
    "      (conv1): Conv2d(1, 32, kernel_size=(5, 5), stride=(1, 1))\n",
    "      (pool1): MaxPool2d(kernel_size=2, stride=2, padding=0, dilation=1, ceil_mode=False)\n",
    "      (conv2): Conv2d(32, 64, kernel_size=(3, 3), stride=(1, 1))\n",
    "      (pool2): MaxPool2d(kernel_size=2, stride=2, padding=0, dilation=1, ceil_mode=False)\n",
    "      (conv3): Conv2d(64, 128, kernel_size=(3, 3), stride=(1, 1))\n",
    "      (pool3): MaxPool2d(kernel_size=2, stride=2, padding=0, dilation=1, ceil_mode=False)\n",
    "      (conv4): Conv2d(128, 256, kernel_size=(3, 3), stride=(1, 1))\n",
    "      (pool4): MaxPool2d(kernel_size=2, stride=2, padding=0, dilation=1, ceil_mode=False)\n",
    "      (conv5): Conv2d(256, 512, kernel_size=(1, 1), stride=(1, 1))\n",
    "      (pool5): MaxPool2d(kernel_size=2, stride=2, padding=0, dilation=1, ceil_mode=False)\n",
    "      (fc1): Linear(in_features=18432, out_features=1024, bias=True)\n",
    "      (fc1_drop): Dropout(p=0.5)\n",
    "      (fc2): Linear(in_features=1024, out_features=136, bias=True)"
   ]
  },
  {
   "cell_type": "markdown",
   "metadata": {},
   "source": [
    "### Question 3: How did you decide on the number of epochs and batch_size to train your model?"
   ]
  },
  {
   "cell_type": "markdown",
   "metadata": {},
   "source": [
    "**Answer**: This was simply a result of observation of the loss values after each step.\n",
    "Started with epoch equals one and batch size 20 i started training the network. The loss seemed to be decreasing and so i decided to increase the epoch to 5 and batch size to 10 which made the loss even less."
   ]
  },
  {
   "cell_type": "markdown",
   "metadata": {},
   "source": [
    "## Feature Visualization\n",
    "\n",
    "Sometimes, neural networks are thought of as a black box, given some input, they learn to produce some output. CNN's are actually learning to recognize a variety of spatial patterns and you can visualize what each convolutional layer has been trained to recognize by looking at the weights that make up each convolutional kernel and applying those one at a time to a sample image. This technique is called feature visualization and it's useful for understanding the inner workings of a CNN."
   ]
  },
  {
   "cell_type": "markdown",
   "metadata": {},
   "source": [
    "In the cell below, you can see how to extract a single filter (by index) from your first convolutional layer. The filter should appear as a grayscale grid."
   ]
  },
  {
   "cell_type": "code",
   "execution_count": null,
   "metadata": {},
   "outputs": [],
   "source": [
    "# Get the weights in the first conv layer, \"conv1\"\n",
    "# if necessary, change this to reflect the name of your first conv layer\n",
    "weights1 = net.conv1.weight.data\n",
    "\n",
    "w = weights1.numpy()\n",
    "\n",
    "filter_index = 0\n",
    "\n",
    "print(w[filter_index][0])\n",
    "print(w[filter_index][0].shape)\n",
    "\n",
    "# display the filter weights\n",
    "plt.imshow(w[filter_index][0], cmap='gray')\n"
   ]
  },
  {
   "cell_type": "markdown",
   "metadata": {},
   "source": [
    "## Feature maps\n",
    "\n",
    "Each CNN has at least one convolutional layer that is composed of stacked filters (also known as convolutional kernels). As a CNN trains, it learns what weights to include in it's convolutional kernels and when these kernels are applied to some input image, they produce a set of **feature maps**. So, feature maps are just sets of filtered images; they are the images produced by applying a convolutional kernel to an input image. These maps show us the features that the different layers of the neural network learn to extract. For example, you might imagine a convolutional kernel that detects the vertical edges of a face or another one that detects the corners of eyes. You can see what kind of features each of these kernels detects by applying them to an image. One such example is shown below; from the way it brings out the lines in an the image, you might characterize this as an edge detection filter.\n",
    "\n",
    "<img src='images/feature_map_ex.png' width=50% height=50%/>\n",
    "\n",
    "\n",
    "Next, choose a test image and filter it with one of the convolutional kernels in your trained CNN; look at the filtered output to get an idea what that particular kernel detects.\n",
    "\n",
    "### TODO: Filter an image to see the effect of a convolutional kernel\n",
    "---"
   ]
  },
  {
   "cell_type": "code",
   "execution_count": null,
   "metadata": {},
   "outputs": [],
   "source": [
    "##TODO: load in and display any image from the transformed test dataset\n",
    "import cv2\n",
    "image = cv2.imread('./images/obamas.jpg')\n",
    "image = cv2.cvtColor(image, cv2.COLOR_BGR2RGB)\n",
    "#image = cv2.cvtColor(image, cv2.COLOR_BGR2GRAY)\n",
    "plt.imshow(image)\n",
    "plt.xticks([]), plt.yticks([])\n",
    "plt.title(\"Orginal Image\")\n",
    "\n",
    "## TODO: Using cv's filter2D function,\n",
    "## apply a specific set of filter weights (like the one displayed above) to the test image\n",
    "filtered = cv2.filter2D(image, -1, w[filter_index][0])\n",
    "#filtered_image = cv2.filter2D(image, -1, CUSTOM)\n",
    "fig = plt.figure()\n",
    "ax = fig.add_subplot(121, xticks = [], yticks = [])\n",
    "ax.imshow(filtered)\n",
    "ax.set_title(\"Feature Map\")\n",
    "ax = fig.add_subplot(122, xticks = [], yticks = [])\n",
    "ax.imshow(w[filter_index][0], cmap = 'gray')\n",
    "\n",
    "plt.show()\n"
   ]
  },
  {
   "cell_type": "markdown",
   "metadata": {},
   "source": [
    "### Question 4: Choose one filter from your trained CNN and apply it to a test image; what purpose do you think it plays? What kind of feature do you think it detects?\n"
   ]
  },
  {
   "cell_type": "markdown",
   "metadata": {},
   "source": [
    "**Answer**: It acts as a representation of the input.The hidden layers of the network carry out feature extraction from the image i.e. here the CNN detects the areas that have high or low content of brightness in the image. For example, on the green board behind Michelle Obama, the whole board is of similar color, the color varies as the content of brightness increases or decreases.This type of feature map helps extract those areas that are similar in the picture in terms of the level of brightness."
   ]
  },
  {
   "cell_type": "markdown",
   "metadata": {},
   "source": [
    "---\n",
    "## Moving on!\n",
    "\n",
    "Now that you've defined and trained your model (and saved the best model), you are ready to move on to the last notebook, which combines a face detector with your saved model to create a facial keypoint detection system that can predict the keypoints on *any* face in an image!"
   ]
  }
 ],
 "metadata": {
  "kernelspec": {
   "display_name": "Python 3",
   "language": "python",
   "name": "python3"
  },
  "language_info": {
   "codemirror_mode": {
    "name": "ipython",
    "version": 3
   },
   "file_extension": ".py",
   "mimetype": "text/x-python",
   "name": "python",
   "nbconvert_exporter": "python",
   "pygments_lexer": "ipython3",
   "version": "3.7.4"
  }
 },
 "nbformat": 4,
 "nbformat_minor": 2
}
